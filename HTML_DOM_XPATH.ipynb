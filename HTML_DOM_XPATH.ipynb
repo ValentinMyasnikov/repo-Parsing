{
  "nbformat": 4,
  "nbformat_minor": 0,
  "metadata": {
    "colab": {
      "provenance": []
    },
    "kernelspec": {
      "name": "python3",
      "display_name": "Python 3"
    },
    "language_info": {
      "name": "python"
    }
  },
  "cells": [
    {
      "cell_type": "markdown",
      "source": [
        "###Код"
      ],
      "metadata": {
        "id": "lcZ7ltHHADld"
      }
    },
    {
      "cell_type": "code",
      "source": [
        "from pprint import pprint\n",
        "from lxml import html\n",
        "import requests\n",
        "import pandas as pd\n",
        "from bs4 import BeautifulSoup as bs\n",
        "import time\n",
        "import json\n",
        "import re"
      ],
      "metadata": {
        "id": "FTji1a8jY6PD"
      },
      "execution_count": 145,
      "outputs": []
    },
    {
      "cell_type": "markdown",
      "source": [
        "HEADHUNTER"
      ],
      "metadata": {
        "id": "O1Kc3obVAKrY"
      }
    },
    {
      "cell_type": "code",
      "source": [
        "def hh_parsing():\n",
        "  vacancy_dict = {1: 'prodavec', 2: 'menedzher', 3: 'uborshik'} \n",
        "  vacancy = int(input('''Выберите профессию для поиск в HeadHunter: \n",
        "1 - продавец\n",
        "2 - менеджер\n",
        "3 - уборщик\n",
        "\n",
        "'''))\n",
        "  pages_ammount = int(input('Введите количество страниц с которых хотите получить информацию, не более 40: '))\n",
        "  n = 0\n",
        "  global hh_list\n",
        "  hh_list = []\n",
        "  c = []\n",
        "  headers = {\n",
        "    'User-Agent': 'Mozilla/5.0 (Windows NT 10.0; Win64; x64) AppleWebKit/537.36 (KHTML, like Gecko) Chrome/109.0.0.0 Safari/537.36',\n",
        "}\n",
        "  while n < pages_ammount:\n",
        "    url = f'https://hh.ru/vacancies/{vacancy_dict[vacancy]}?page={n}'\n",
        "    response = requests.get(url=url, headers=headers)\n",
        "    dom = bs(response.text, 'html.parser')\n",
        "    tag_hh = dom.find_all('div', {'class': 'vacancy-serp-item__layout'})\n",
        "    for t in tag_hh:  \n",
        "      tag_vacancy_name = t.find('a', {'class':'serp-item__title'}).text\n",
        "      tag_hh_link = t.find('a', {'class': 'serp-item__title'})['href']\n",
        "      tag_vacancy_salary = t.find('span', {'data-qa':'vacancy-serp__vacancy-compensation'})\n",
        "      try:\n",
        "        tag_vacancy_salary = tag_vacancy_salary.text.strip()\n",
        "      except AttributeError:\n",
        "        tag_vacancy_salary = 'з/п не указана'\n",
        "      vacancies_dict = {\n",
        "      'source': 'HH',\n",
        "      'name': tag_vacancy_name,\n",
        "      'salary': tag_vacancy_salary.replace('\\u202f', \"\"),\n",
        "      'link': tag_hh_link\n",
        "  }\n",
        "      hh_list.append(vacancies_dict)\n",
        "    # time.sleep(2)\n",
        "    n += 1\n",
        "  # return hh_list"
      ],
      "metadata": {
        "id": "uARI-7tsLIft"
      },
      "execution_count": 146,
      "outputs": []
    },
    {
      "cell_type": "markdown",
      "source": [
        "SUPERJOB"
      ],
      "metadata": {
        "id": "oq7tafLQGOP4"
      }
    },
    {
      "cell_type": "code",
      "source": [
        "def sj_parsing():\n",
        "  sj_vacancy_dict = {1: 'Продавец', 2: 'Менеджер', 3: 'Уборщик'} \n",
        "  sj_vacancy = int(input('''\\nВыберите профессию для поиска в SuperJob: \n",
        "1 - продавец\n",
        "2 - менеджер\n",
        "3 - уборщик\n",
        "\n",
        "'''))\n",
        "  pages_ammount = int(input('Введите количество страниц с которых хотите получить информацию, не более 5: '))\n",
        "  n = 0\n",
        "  global sj_list\n",
        "  sj_list = []\n",
        "  headers = {\n",
        "    'User-Agent': 'Mozilla/5.0 (Windows NT 10.0; Win64; x64) AppleWebKit/537.36 (KHTML, like Gecko) Chrome/109.0.0.0 Safari/537.36',\n",
        "}\n",
        "  while n < pages_ammount:\n",
        "    url = f'https://www.superjob.ru/vacancy/search/?keywords={sj_vacancy_dict[sj_vacancy]}?page={n}]'\n",
        "    response = requests.get(url=url, headers=headers)\n",
        "    dom = bs(response.text, 'html.parser')\n",
        "    tag_sj = dom.find_all('div', {'class': '_1iE-a _36PRW'})\n",
        "    for t_sj in tag_sj:\n",
        "      tag_sj_link = 'https://www.superjob.ru' + t_sj.find('a', {'class': '_1IHWd'})['href']\n",
        "      tag_vacancy_sj_salary = t_sj.find('span', {'class':'_2eYAG rIDaO oDIMq _33qju _3T7lp'}).text.strip()\n",
        "      # tag_vacancy_sj_salary_final = re.sub('до|от|₽', \"\", tag_vacancy_sj_salary)\n",
        "      tag_vacancy_sj_name = t_sj.find('a', {'class':'_1IHWd'})\n",
        "      try:\n",
        "        tag_vacancy_sj_name = tag_vacancy_sj_name.text.strip()\n",
        "      except AttributeError:\n",
        "        tag_vacancy_sj_name = 'должность не указана'\n",
        "      vacancies_sj_dict = {\n",
        "      'source': 'SJ',\n",
        "      'name': tag_vacancy_sj_name,\n",
        "      'salary': tag_vacancy_sj_salary.replace('\\xa0', \"\"),\n",
        "      'link': tag_sj_link\n",
        "  }\n",
        "      sj_list.append(vacancies_sj_dict)\n",
        "    # time.sleep(2)\n",
        "    n += 1\n",
        "  # return hh_list"
      ],
      "metadata": {
        "id": "AhIEWguZNYP-"
      },
      "execution_count": 147,
      "outputs": []
    },
    {
      "cell_type": "code",
      "source": [
        "def job_search():\n",
        "  hh_parsing()\n",
        "  sj_parsing()\n",
        "  global final_list\n",
        "  final_list = hh_list + sj_list\n",
        "  return pd.DataFrame(final_list)"
      ],
      "metadata": {
        "id": "Sqr1YT3BRVHH"
      },
      "execution_count": 148,
      "outputs": []
    },
    {
      "cell_type": "markdown",
      "source": [
        "###ИТОГ"
      ],
      "metadata": {
        "id": "2mJU6EGiAOyI"
      }
    },
    {
      "cell_type": "code",
      "source": [
        "result = job_search()\n",
        "result"
      ],
      "metadata": {
        "colab": {
          "base_uri": "https://localhost:8080/",
          "height": 684
        },
        "id": "mB5OgUVWRknI",
        "outputId": "1cd5a4a1-9bfc-4da1-8970-f409641f6cd8"
      },
      "execution_count": 149,
      "outputs": [
        {
          "name": "stdout",
          "output_type": "stream",
          "text": [
            "Выберите профессию для поиск в HeadHunter: \n",
            "1 - продавец\n",
            "2 - менеджер\n",
            "3 - уборщик\n",
            "\n",
            "2\n",
            "Введите количество страниц с которых хотите получить информацию, не более 40: 1\n",
            "\n",
            "Выберите профессию для поиска в SuperJob: \n",
            "1 - продавец\n",
            "2 - менеджер\n",
            "3 - уборщик\n",
            "\n",
            "3\n",
            "Введите количество страниц с которых хотите получить информацию, не более 5: 2\n"
          ]
        },
        {
          "output_type": "execute_result",
          "data": {
            "text/plain": [
              "    source                                               name  \\\n",
              "0       HH                                           Менеджер   \n",
              "1       HH                      Менеджер по продажам (стажер)   \n",
              "2       HH                            Менеджер оптовых продаж   \n",
              "3       HH                               Менеджер по продажам   \n",
              "4       HH  Удаленный оператор / помощник менеджера продаж...   \n",
              "..     ...                                                ...   \n",
              "126     SJ                         Уборщица офисных помещений   \n",
              "127     SJ                                    Клинер, уборщик   \n",
              "128     SJ                                           Уборщица   \n",
              "129     SJ                        Уборщик служебных помещений   \n",
              "130     SJ                        Уборщик служебных помещений   \n",
              "\n",
              "                  salary                                               link  \n",
              "0     50000 – 70000 руб.  https://adsrv.hh.ru/click?b=368311&c=45&meta=g...  \n",
              "1    60000 – 100000 руб.  https://hh.ru/vacancy/69017868?query=%D0%BC%D0...  \n",
              "2    70000 – 230000 руб.  https://hh.ru/vacancy/77262869?query=%D0%BC%D0...  \n",
              "3    60000 – 250000 руб.  https://hh.ru/vacancy/77198960?query=%D0%BC%D0...  \n",
              "4         до 140000 руб.  https://hh.ru/vacancy/77194747?query=%D0%BC%D0...  \n",
              "..                   ...                                                ...  \n",
              "126             до30000₽  https://www.superjob.ru/vakansii/uborschica-of...  \n",
              "127             от75000₽  https://www.superjob.ru/vakansii/kliner-456339...  \n",
              "128               53000₽  https://www.superjob.ru/vakansii/uborschica-45...  \n",
              "129             до30000₽  https://www.superjob.ru/vakansii/uborschik-slu...  \n",
              "130             от60000₽  https://www.superjob.ru/vakansii/uborschik-slu...  \n",
              "\n",
              "[131 rows x 4 columns]"
            ],
            "text/html": [
              "\n",
              "  <div id=\"df-e4042fbd-96ab-4a78-b061-580d1b21b541\">\n",
              "    <div class=\"colab-df-container\">\n",
              "      <div>\n",
              "<style scoped>\n",
              "    .dataframe tbody tr th:only-of-type {\n",
              "        vertical-align: middle;\n",
              "    }\n",
              "\n",
              "    .dataframe tbody tr th {\n",
              "        vertical-align: top;\n",
              "    }\n",
              "\n",
              "    .dataframe thead th {\n",
              "        text-align: right;\n",
              "    }\n",
              "</style>\n",
              "<table border=\"1\" class=\"dataframe\">\n",
              "  <thead>\n",
              "    <tr style=\"text-align: right;\">\n",
              "      <th></th>\n",
              "      <th>source</th>\n",
              "      <th>name</th>\n",
              "      <th>salary</th>\n",
              "      <th>link</th>\n",
              "    </tr>\n",
              "  </thead>\n",
              "  <tbody>\n",
              "    <tr>\n",
              "      <th>0</th>\n",
              "      <td>HH</td>\n",
              "      <td>Менеджер</td>\n",
              "      <td>50000 – 70000 руб.</td>\n",
              "      <td>https://adsrv.hh.ru/click?b=368311&amp;c=45&amp;meta=g...</td>\n",
              "    </tr>\n",
              "    <tr>\n",
              "      <th>1</th>\n",
              "      <td>HH</td>\n",
              "      <td>Менеджер по продажам (стажер)</td>\n",
              "      <td>60000 – 100000 руб.</td>\n",
              "      <td>https://hh.ru/vacancy/69017868?query=%D0%BC%D0...</td>\n",
              "    </tr>\n",
              "    <tr>\n",
              "      <th>2</th>\n",
              "      <td>HH</td>\n",
              "      <td>Менеджер оптовых продаж</td>\n",
              "      <td>70000 – 230000 руб.</td>\n",
              "      <td>https://hh.ru/vacancy/77262869?query=%D0%BC%D0...</td>\n",
              "    </tr>\n",
              "    <tr>\n",
              "      <th>3</th>\n",
              "      <td>HH</td>\n",
              "      <td>Менеджер по продажам</td>\n",
              "      <td>60000 – 250000 руб.</td>\n",
              "      <td>https://hh.ru/vacancy/77198960?query=%D0%BC%D0...</td>\n",
              "    </tr>\n",
              "    <tr>\n",
              "      <th>4</th>\n",
              "      <td>HH</td>\n",
              "      <td>Удаленный оператор / помощник менеджера продаж...</td>\n",
              "      <td>до 140000 руб.</td>\n",
              "      <td>https://hh.ru/vacancy/77194747?query=%D0%BC%D0...</td>\n",
              "    </tr>\n",
              "    <tr>\n",
              "      <th>...</th>\n",
              "      <td>...</td>\n",
              "      <td>...</td>\n",
              "      <td>...</td>\n",
              "      <td>...</td>\n",
              "    </tr>\n",
              "    <tr>\n",
              "      <th>126</th>\n",
              "      <td>SJ</td>\n",
              "      <td>Уборщица офисных помещений</td>\n",
              "      <td>до30000₽</td>\n",
              "      <td>https://www.superjob.ru/vakansii/uborschica-of...</td>\n",
              "    </tr>\n",
              "    <tr>\n",
              "      <th>127</th>\n",
              "      <td>SJ</td>\n",
              "      <td>Клинер, уборщик</td>\n",
              "      <td>от75000₽</td>\n",
              "      <td>https://www.superjob.ru/vakansii/kliner-456339...</td>\n",
              "    </tr>\n",
              "    <tr>\n",
              "      <th>128</th>\n",
              "      <td>SJ</td>\n",
              "      <td>Уборщица</td>\n",
              "      <td>53000₽</td>\n",
              "      <td>https://www.superjob.ru/vakansii/uborschica-45...</td>\n",
              "    </tr>\n",
              "    <tr>\n",
              "      <th>129</th>\n",
              "      <td>SJ</td>\n",
              "      <td>Уборщик служебных помещений</td>\n",
              "      <td>до30000₽</td>\n",
              "      <td>https://www.superjob.ru/vakansii/uborschik-slu...</td>\n",
              "    </tr>\n",
              "    <tr>\n",
              "      <th>130</th>\n",
              "      <td>SJ</td>\n",
              "      <td>Уборщик служебных помещений</td>\n",
              "      <td>от60000₽</td>\n",
              "      <td>https://www.superjob.ru/vakansii/uborschik-slu...</td>\n",
              "    </tr>\n",
              "  </tbody>\n",
              "</table>\n",
              "<p>131 rows × 4 columns</p>\n",
              "</div>\n",
              "      <button class=\"colab-df-convert\" onclick=\"convertToInteractive('df-e4042fbd-96ab-4a78-b061-580d1b21b541')\"\n",
              "              title=\"Convert this dataframe to an interactive table.\"\n",
              "              style=\"display:none;\">\n",
              "        \n",
              "  <svg xmlns=\"http://www.w3.org/2000/svg\" height=\"24px\"viewBox=\"0 0 24 24\"\n",
              "       width=\"24px\">\n",
              "    <path d=\"M0 0h24v24H0V0z\" fill=\"none\"/>\n",
              "    <path d=\"M18.56 5.44l.94 2.06.94-2.06 2.06-.94-2.06-.94-.94-2.06-.94 2.06-2.06.94zm-11 1L8.5 8.5l.94-2.06 2.06-.94-2.06-.94L8.5 2.5l-.94 2.06-2.06.94zm10 10l.94 2.06.94-2.06 2.06-.94-2.06-.94-.94-2.06-.94 2.06-2.06.94z\"/><path d=\"M17.41 7.96l-1.37-1.37c-.4-.4-.92-.59-1.43-.59-.52 0-1.04.2-1.43.59L10.3 9.45l-7.72 7.72c-.78.78-.78 2.05 0 2.83L4 21.41c.39.39.9.59 1.41.59.51 0 1.02-.2 1.41-.59l7.78-7.78 2.81-2.81c.8-.78.8-2.07 0-2.86zM5.41 20L4 18.59l7.72-7.72 1.47 1.35L5.41 20z\"/>\n",
              "  </svg>\n",
              "      </button>\n",
              "      \n",
              "  <style>\n",
              "    .colab-df-container {\n",
              "      display:flex;\n",
              "      flex-wrap:wrap;\n",
              "      gap: 12px;\n",
              "    }\n",
              "\n",
              "    .colab-df-convert {\n",
              "      background-color: #E8F0FE;\n",
              "      border: none;\n",
              "      border-radius: 50%;\n",
              "      cursor: pointer;\n",
              "      display: none;\n",
              "      fill: #1967D2;\n",
              "      height: 32px;\n",
              "      padding: 0 0 0 0;\n",
              "      width: 32px;\n",
              "    }\n",
              "\n",
              "    .colab-df-convert:hover {\n",
              "      background-color: #E2EBFA;\n",
              "      box-shadow: 0px 1px 2px rgba(60, 64, 67, 0.3), 0px 1px 3px 1px rgba(60, 64, 67, 0.15);\n",
              "      fill: #174EA6;\n",
              "    }\n",
              "\n",
              "    [theme=dark] .colab-df-convert {\n",
              "      background-color: #3B4455;\n",
              "      fill: #D2E3FC;\n",
              "    }\n",
              "\n",
              "    [theme=dark] .colab-df-convert:hover {\n",
              "      background-color: #434B5C;\n",
              "      box-shadow: 0px 1px 3px 1px rgba(0, 0, 0, 0.15);\n",
              "      filter: drop-shadow(0px 1px 2px rgba(0, 0, 0, 0.3));\n",
              "      fill: #FFFFFF;\n",
              "    }\n",
              "  </style>\n",
              "\n",
              "      <script>\n",
              "        const buttonEl =\n",
              "          document.querySelector('#df-e4042fbd-96ab-4a78-b061-580d1b21b541 button.colab-df-convert');\n",
              "        buttonEl.style.display =\n",
              "          google.colab.kernel.accessAllowed ? 'block' : 'none';\n",
              "\n",
              "        async function convertToInteractive(key) {\n",
              "          const element = document.querySelector('#df-e4042fbd-96ab-4a78-b061-580d1b21b541');\n",
              "          const dataTable =\n",
              "            await google.colab.kernel.invokeFunction('convertToInteractive',\n",
              "                                                     [key], {});\n",
              "          if (!dataTable) return;\n",
              "\n",
              "          const docLinkHtml = 'Like what you see? Visit the ' +\n",
              "            '<a target=\"_blank\" href=https://colab.research.google.com/notebooks/data_table.ipynb>data table notebook</a>'\n",
              "            + ' to learn more about interactive tables.';\n",
              "          element.innerHTML = '';\n",
              "          dataTable['output_type'] = 'display_data';\n",
              "          await google.colab.output.renderOutput(dataTable, element);\n",
              "          const docLink = document.createElement('div');\n",
              "          docLink.innerHTML = docLinkHtml;\n",
              "          element.appendChild(docLink);\n",
              "        }\n",
              "      </script>\n",
              "    </div>\n",
              "  </div>\n",
              "  "
            ]
          },
          "metadata": {},
          "execution_count": 149
        }
      ]
    },
    {
      "cell_type": "code",
      "source": [
        "with open('/content/drive/MyDrive/ОБУЧЕНИЕ В GB. МАТЕРИАЛЫ/Модуль 6/data.json', 'w') as outfile:\n",
        "  json.dump(final_list, outfile)"
      ],
      "metadata": {
        "id": "ix0fW5fhqOQu"
      },
      "execution_count": 150,
      "outputs": []
    },
    {
      "cell_type": "code",
      "source": [
        "!apt install mongodb > log"
      ],
      "metadata": {
        "colab": {
          "base_uri": "https://localhost:8080/"
        },
        "id": "m7DGcUZt6xZR",
        "outputId": "0c2391f4-33ec-4e66-c8bb-c6f94184b067"
      },
      "execution_count": 151,
      "outputs": [
        {
          "output_type": "stream",
          "name": "stdout",
          "text": [
            "\n",
            "WARNING: apt does not have a stable CLI interface. Use with caution in scripts.\n",
            "\n"
          ]
        }
      ]
    },
    {
      "cell_type": "code",
      "source": [
        "!service mongodb start"
      ],
      "metadata": {
        "colab": {
          "base_uri": "https://localhost:8080/"
        },
        "id": "k-hvBR1W60zO",
        "outputId": "3fbe3305-c8b1-4962-9ef6-7d9eaab489a1"
      },
      "execution_count": 152,
      "outputs": [
        {
          "output_type": "stream",
          "name": "stdout",
          "text": [
            " * Starting database mongodb\n",
            "   ...done.\n"
          ]
        }
      ]
    },
    {
      "cell_type": "code",
      "source": [
        "!pip install pymongo"
      ],
      "metadata": {
        "colab": {
          "base_uri": "https://localhost:8080/"
        },
        "id": "lynrzEfR64ba",
        "outputId": "49a0b20f-0b34-4926-ae5e-032e9857514a"
      },
      "execution_count": 153,
      "outputs": [
        {
          "output_type": "stream",
          "name": "stdout",
          "text": [
            "Looking in indexes: https://pypi.org/simple, https://us-python.pkg.dev/colab-wheels/public/simple/\n",
            "Requirement already satisfied: pymongo in /usr/local/lib/python3.8/dist-packages (4.3.3)\n",
            "Requirement already satisfied: dnspython<3.0.0,>=1.16.0 in /usr/local/lib/python3.8/dist-packages (from pymongo) (2.3.0)\n"
          ]
        }
      ]
    },
    {
      "cell_type": "code",
      "source": [
        "from pymongo import MongoClient"
      ],
      "metadata": {
        "id": "3U3WmKFX67os"
      },
      "execution_count": 154,
      "outputs": []
    },
    {
      "cell_type": "code",
      "source": [
        "client = MongoClient()"
      ],
      "metadata": {
        "id": "8Zco75Im68vs"
      },
      "execution_count": 155,
      "outputs": []
    },
    {
      "cell_type": "code",
      "source": [
        "db = client.vacancies"
      ],
      "metadata": {
        "id": "Yq_aZLsz6-dO"
      },
      "execution_count": 156,
      "outputs": []
    },
    {
      "cell_type": "code",
      "source": [
        "collection_vacancies_hh_sj = db.vacancies_hh_sj"
      ],
      "metadata": {
        "id": "8mBogzaM7NgS"
      },
      "execution_count": 157,
      "outputs": []
    },
    {
      "cell_type": "code",
      "source": [
        "with open('/content/drive/MyDrive/ОБУЧЕНИЕ В GB. МАТЕРИАЛЫ/Модуль 6/data.json') as json_file:\n",
        "    data = json.load(json_file)"
      ],
      "metadata": {
        "id": "dk4QfZHr7Xnf"
      },
      "execution_count": 158,
      "outputs": []
    },
    {
      "cell_type": "code",
      "source": [
        "for d in data:\n",
        "  db.collection_vacancies_hh_sj.insert_one(d)"
      ],
      "metadata": {
        "id": "fTdIewGVFq9O"
      },
      "execution_count": 173,
      "outputs": []
    },
    {
      "cell_type": "code",
      "source": [
        "for d in data:\n",
        "  if not len(list(db.collection_vacancies_hh_sj.find({'link': d['link']}))):\n",
        "    db.collection_vacancies_hh_sj.insert_one(d)"
      ],
      "metadata": {
        "id": "S6epO6FuRXxK"
      },
      "execution_count": null,
      "outputs": []
    },
    {
      "cell_type": "code",
      "source": [
        "print(len(list(db.collection_vacancies_hh_sj.find())))"
      ],
      "metadata": {
        "colab": {
          "base_uri": "https://localhost:8080/"
        },
        "id": "3G1HVu40LNvB",
        "outputId": "6983795d-0292-43cb-b426-822a4f02cd0a"
      },
      "execution_count": 177,
      "outputs": [
        {
          "output_type": "stream",
          "name": "stdout",
          "text": [
            "131\n"
          ]
        }
      ]
    },
    {
      "cell_type": "code",
      "source": [
        "for d in db.collection_vacancies_hh_sj.find({'source': 'HH'}):\n",
        "  print(d)"
      ],
      "metadata": {
        "id": "lKkk8wKWU4Fj"
      },
      "execution_count": null,
      "outputs": []
    },
    {
      "cell_type": "code",
      "source": [
        "for d in db.collection_vacancies_hh_sj.find({'name': 'Уборщик'}):\n",
        "  print(d)"
      ],
      "metadata": {
        "colab": {
          "base_uri": "https://localhost:8080/"
        },
        "id": "COz_cWJ0VuFF",
        "outputId": "6ae6e67c-6740-4e40-ddc2-fc1cc3236a16"
      },
      "execution_count": 186,
      "outputs": [
        {
          "output_type": "stream",
          "name": "stdout",
          "text": [
            "{'_id': ObjectId('63f50fdd0790bf834e80cb08'), 'source': 'SJ', 'name': 'Уборщик', 'salary': 'от45000₽', 'link': 'https://www.superjob.ru/vakansii/uborschik-43119980.html'}\n",
            "{'_id': ObjectId('63f50fdd0790bf834e80cb1c'), 'source': 'SJ', 'name': 'Уборщик', 'salary': 'от35000₽', 'link': 'https://www.superjob.ru/vakansii/uborschik-45815240.html'}\n",
            "{'_id': ObjectId('63f50fdd0790bf834e80cb30'), 'source': 'SJ', 'name': 'Уборщик', 'salary': 'от45000₽', 'link': 'https://www.superjob.ru/vakansii/uborschik-43119980.html'}\n",
            "{'_id': ObjectId('63f50fdd0790bf834e80cb44'), 'source': 'SJ', 'name': 'Уборщик', 'salary': 'от35000₽', 'link': 'https://www.superjob.ru/vakansii/uborschik-45815240.html'}\n"
          ]
        }
      ]
    }
  ]
}